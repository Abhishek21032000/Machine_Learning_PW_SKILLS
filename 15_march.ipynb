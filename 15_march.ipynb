{
 "cells": [
  {
   "cell_type": "code",
   "execution_count": null,
   "id": "4d0eb84f-e49a-4485-abaa-67bca9fa4c0e",
   "metadata": {},
   "outputs": [],
   "source": [
    "Q1- Explain the following with an example?\n",
    "1) Artificial Intelligence : Artificial Intelligence (AI) refers to the ability of a machine or computer program to perform tasks that typically require human intelligence, \n",
    "                             such as learning, problem-solving, decision-making, perception, and natural language understanding. AI can be implemented in various fields \n",
    "                             such as gaming, robotics, healthcare, and finance.\n",
    "                             Example: An AI-powered virtual assistant, such as Apple's Siri or Amazon's Alexa, can understand voice commands and respond to questions, \n",
    "                             play music, set reminders, and control smart home devices, among other things.\n",
    "                             \n",
    "2) Machine Learning: Machine Learning (ML) is a subset of AI that involves training algorithms on a large dataset to learn from patterns and make predictions without \n",
    "                     being explicitly programmed. ML algorithms can be supervised, unsupervised, or semi-supervised, and they can be used for tasks such as image and \n",
    "                     speech recognition, natural language processing, and recommendation systems.\n",
    "                     Example: A spam filter that learns to distinguish between spam and legitimate emails based on patterns in the content, sender, and subject line.\n",
    "                     \n",
    "3) Deep Learning: Deep Learning (DL) is a subset of ML that uses artificial neural networks with multiple layers to learn from data and make predictions. \n",
    "                  DL algorithms can be used for tasks such as image and speech recognition, natural language processing, and autonomous driving.\n",
    "                  Example: A DL algorithm that can recognize images of different breeds of dogs by learning from millions of labeled images of dogs with different features, \n",
    "                  such as fur color, snout length, and ear shape.\n"
   ]
  },
  {
   "cell_type": "code",
   "execution_count": null,
   "id": "edd2ebca-aa39-4df2-96d1-69107b9a404c",
   "metadata": {},
   "outputs": [],
   "source": [
    "\"\"\"Q2- What is supervised learning? List some examples of supervised learning.\n",
    "\n",
    "    Ans: Supervised learning is a type of machine learning where an algorithm is trained on a labeled dataset, meaning the input data has corresponding output data. \n",
    "         The goal is to use this training to make accurate predictions or classifications on new, unlabeled data. \n",
    "         Examples include image recognition, spam filtering, and language translation.\n",
    "\"\"\""
   ]
  },
  {
   "cell_type": "code",
   "execution_count": null,
   "id": "10c9217f-169c-4a80-8b20-15af0a213947",
   "metadata": {},
   "outputs": [],
   "source": [
    "\"\"\"Q3- What is unsupervised learning? List some examples of unsupervised learning.\n",
    "\n",
    "    Ans: Unsupervised learning is a type of machine learning where the model learns to identify patterns and relationships in data without being given any specific \n",
    "         guidance or labels. \n",
    "         Examples of unsupervised learning include clustering similar data points, dimensionality reduction, and anomaly detection.\n",
    "\"\"\""
   ]
  },
  {
   "cell_type": "code",
   "execution_count": null,
   "id": "afb02190-19f2-4516-9e56-77ce2be298a0",
   "metadata": {},
   "outputs": [],
   "source": [
    "\"\"\"Q4- What is the diffference between AI, ML, DL, and DS?\n",
    "\n",
    "    Ans: AI (Artificial Intelligence) is a broad field that encompasses various techniques and approaches to make machines perform tasks that typically require human \n",
    "         intelligence, such as perception, reasoning, and learning.\n",
    "         ML (Machine Learning) is a subset of AI that involves training algorithms to make predictions or decisions based on data. The focus of ML is on developing \n",
    "         algorithms that can learn and improve from experience without being explicitly programmed.\n",
    "         DL (Deep Learning) is a subset of ML that uses artificial neural networks to learn from large amounts of data. DL algorithms are designed to automatically \n",
    "         extract complex features from raw data and perform tasks such as image recognition, natural language processing, and speech recognition.\n",
    "         DS (Data Science) is a field that involves extracting insights and knowledge from data using various techniques such as statistics, machine learning, \n",
    "         and data visualization. Data scientists use statistical and computational methods to extract meaningful insights and patterns from data and use them \n",
    "         to make informed business decisions.\n",
    "\"\"\""
   ]
  },
  {
   "cell_type": "code",
   "execution_count": null,
   "id": "c8cb3a55-38a6-4ddc-991e-4281ff934cd0",
   "metadata": {},
   "outputs": [],
   "source": [
    "\"\"\"Q5- What are the main differences between supervised, unsupervised and semi-supervised learning?\n",
    "\n",
    "    Ans: Supervised learning: In supervised learning, the machine learning algorithm is trained on a labeled dataset, where each example in the dataset is associated with a \n",
    "            specific label or output. The algorithm learns to predict the output for new, unseen examples based on the input features provided. \n",
    "            Examples of supervised learning include image classification, sentiment analysis, and speech recognition.\n",
    "         Unsupervised learning: In unsupervised learning, the machine learning algorithm is trained on an unlabeled dataset, where the data has no specific labels or outputs. \n",
    "             The algorithm learns to identify patterns and relationships in the data without any specific guidance. \n",
    "             Examples of unsupervised learning include clustering, dimensionality reduction, and anomaly detection.\n",
    "         Semi-supervised learning: In semi-supervised learning, the machine learning algorithm is trained on a combination of labeled and unlabeled data. \n",
    "             The algorithm learns to use the labeled examples to make predictions and the unlabeled examples to identify patterns and relationships in the data. \n",
    "             Semi-supervised learning is useful when labeled data is scarce or expensive to obtain. \n",
    "             Examples of semi-supervised learning include image and speech recognition.\n",
    "         In summary, supervised learning requires labeled data, unsupervised learning does not require labels, and semi-supervised learning combines both labeled and \n",
    "         unlabeled data.\n",
    "\"\"\""
   ]
  },
  {
   "cell_type": "code",
   "execution_count": null,
   "id": "42302b53-5aee-4916-af90-cfb33d930bf6",
   "metadata": {},
   "outputs": [],
   "source": [
    "\"\"\"Q6- What is train, test and validation split? Explain the importance of each term.\n",
    "\n",
    "    Ans: Train, test, and validation split is a technique used in machine learning to divide a dataset into three subsets: a training set, a validation set, and a testing set. \n",
    "         The training set is used to train the model, the validation set is used to evaluate the performance of the model during training, and the testing set is used to \n",
    "         evaluate the final performance of the model after training. This split is important because it helps to prevent overfitting, where the model memorizes the \n",
    "         training data and performs poorly on new data.\n",
    "\"\"\""
   ]
  },
  {
   "cell_type": "code",
   "execution_count": null,
   "id": "1478da1e-ff1b-40a6-b27f-b0432c648627",
   "metadata": {},
   "outputs": [],
   "source": [
    "\"\"\"Q7- How can unsupervised learning be used in anormaly detection?\n",
    "\n",
    "    Ans: Unsupervised learning can be used in anomaly detection by training a model to learn the normal patterns in a dataset and then flagging any data that does not \n",
    "         fit those patterns as an anomaly. The model does not need to be explicitly told what an anomaly is, but instead, it identifies patterns that deviate from the \n",
    "         norm on its own. This makes unsupervised learning useful for detecting novel or unknown anomalies in data.\n",
    "\"\"\""
   ]
  },
  {
   "cell_type": "code",
   "execution_count": null,
   "id": "cb83737b-fe80-4afb-b28a-6342923c85b6",
   "metadata": {},
   "outputs": [],
   "source": [
    "\"\"\"Q8- List down some commonly used supervised learning algorithms and unsupervised learning algorithms.\n",
    "\n",
    "    Ans: Supervised Learning Algorithms:\n",
    "            Linear Regression\n",
    "            Logistic Regression\n",
    "            Decision Tree\n",
    "            Random Forest\n",
    "            Support Vector Machines (SVM)\n",
    "            K-Nearest Neighbors (KNN)\n",
    "            Naive Bayes\n",
    "\n",
    "        Unsupervised Learning Algorithms:\n",
    "            K-Means Clustering\n",
    "            Hierarchical Clustering\n",
    "            PCA (Principal Component Analysis)\n",
    "            Apriori Algorithm\n",
    "            Anomaly Detection\n",
    "            Isolation Forest\n",
    "            Autoencoders\n",
    "\"\"\""
   ]
  },
  {
   "cell_type": "code",
   "execution_count": null,
   "id": "22027fba-19eb-42e5-9266-c3e21247d469",
   "metadata": {},
   "outputs": [],
   "source": []
  },
  {
   "cell_type": "code",
   "execution_count": null,
   "id": "cb19bfae-4ade-4f57-933e-740df4f2492e",
   "metadata": {},
   "outputs": [],
   "source": []
  },
  {
   "cell_type": "code",
   "execution_count": null,
   "id": "9ce36d32-2d00-4dbd-9a40-da9975153540",
   "metadata": {},
   "outputs": [],
   "source": []
  },
  {
   "cell_type": "code",
   "execution_count": null,
   "id": "4b72948b-4185-46d6-9c03-2fff519df1df",
   "metadata": {},
   "outputs": [],
   "source": []
  },
  {
   "cell_type": "code",
   "execution_count": null,
   "id": "7bac6dff-0d10-48f8-8b7d-4d8535aedbcd",
   "metadata": {},
   "outputs": [],
   "source": []
  },
  {
   "cell_type": "code",
   "execution_count": null,
   "id": "0c623e9d-95d0-47ea-8335-fbc193ea5d10",
   "metadata": {},
   "outputs": [],
   "source": []
  },
  {
   "cell_type": "code",
   "execution_count": null,
   "id": "4657c3b4-552f-4056-bf95-39bcba23dcb2",
   "metadata": {},
   "outputs": [],
   "source": []
  },
  {
   "cell_type": "code",
   "execution_count": null,
   "id": "84be837b-f72b-4bc6-9eec-09a6d4e73333",
   "metadata": {},
   "outputs": [],
   "source": []
  }
 ],
 "metadata": {
  "kernelspec": {
   "display_name": "Python 3 (ipykernel)",
   "language": "python",
   "name": "python3"
  },
  "language_info": {
   "codemirror_mode": {
    "name": "ipython",
    "version": 3
   },
   "file_extension": ".py",
   "mimetype": "text/x-python",
   "name": "python",
   "nbconvert_exporter": "python",
   "pygments_lexer": "ipython3",
   "version": "3.10.8"
  }
 },
 "nbformat": 4,
 "nbformat_minor": 5
}
